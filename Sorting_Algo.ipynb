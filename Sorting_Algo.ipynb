{
 "cells": [
  {
   "cell_type": "code",
   "execution_count": 5,
   "metadata": {
    "scrolled": false
   },
   "outputs": [],
   "source": [
    "import pandas as pd\n",
    "import shutil\n",
    "import os\n",
    "from shutil import move\n",
    "import cv2\n",
    "import glob\n",
    "import numpy as np\n",
    "import cv2\n",
    "from scipy import ndimage\n",
    "from PIL import Image\n",
    "import matplotlib.pyplot as plt\n",
    "import skimage\n",
    "from skimage import filters as skifilters\n",
    "%matplotlib inline\n",
    "\n",
    "#Reading MetaData\n",
    "meta_list = pd.read_csv('ISBI2016_ISIC_Part3_Training_GroundTruth.csv')\n",
    "meta_list_len = len(meta_list)\n",
    "#print(meta_list_len)\n",
    "meta_list.shape\n",
    "#print(meta_list.head())\n",
    "meta_list['Image_Index'][0]\n",
    "\n",
    "\n",
    "for i in range(meta_list_len):\n",
    "    fig = (meta_list['Image_Index'][i])\n",
    "    #print(fig)\n",
    "  \n",
    "    image_path = \"C:/Users/vipin/Machine Learning/Sort ISIC16_part_3/ISBI2016_ISIC_Part3_Training_Data/ISBI2016_ISIC_Part3_TraiData/\"\n",
    "    #img1 = Image.open(image_path + fig + '.jpg')\n",
    "    img1 = cv2.imread(image_path + fig + '.jpg')\n",
    "    img1 = np.asarray(img1).astype(np.uint8)\n",
    "    \n",
    "   \n",
    "    if meta_list['Value'][i] == 0:\n",
    "        #print(\"Not Melanoma\")\n",
    "        path1 = \"C:/Users/vipin/Machine Learning/Sort ISIC16_part_3/ISBI2016_ISIC_Part3_Training_Data/Not Melanoma\"\n",
    "        \n",
    "        cv2.imwrite(os.path.join(path1, fig + '.jpg'), img1)\n",
    "       \n",
    "    else:\n",
    "        #print(\"Melanoma\")\n",
    "        path2 = \"C:/Users/vipin/Machine Learning/Sort ISIC16_part_3/ISBI2016_ISIC_Part3_Training_Data/Melanoma\"\n",
    "        cv2.imwrite(os.path.join(path2, fig + '.jpg'), img1)\n",
    "    \n",
    "   \n",
    "    #raw_img = cv2.imread(imagefile)\n",
    "    "
   ]
  },
  {
   "cell_type": "code",
   "execution_count": null,
   "metadata": {},
   "outputs": [],
   "source": []
  },
  {
   "cell_type": "code",
   "execution_count": null,
   "metadata": {},
   "outputs": [],
   "source": []
  }
 ],
 "metadata": {
  "kernelspec": {
   "display_name": "Python 3.7 (DLCU)",
   "language": "python",
   "name": "dlcpu"
  },
  "language_info": {
   "codemirror_mode": {
    "name": "ipython",
    "version": 3
   },
   "file_extension": ".py",
   "mimetype": "text/x-python",
   "name": "python",
   "nbconvert_exporter": "python",
   "pygments_lexer": "ipython3",
   "version": "3.7.9"
  }
 },
 "nbformat": 4,
 "nbformat_minor": 4
}
